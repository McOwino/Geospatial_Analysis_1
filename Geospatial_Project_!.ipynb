{
 "cells": [
  {
   "cell_type": "markdown",
   "id": "246a1e99",
   "metadata": {},
   "source": [
    "### Setting Up for the Geospatial Enviroment"
   ]
  },
  {
   "cell_type": "code",
   "execution_count": 3,
   "id": "a3f5af6c",
   "metadata": {},
   "outputs": [
    {
     "name": "stdout",
     "output_type": "stream",
     "text": [
      "Requirement already satisfied: geopandas in c:\\users\\owino\\anaconda3\\lib\\site-packages (0.13.2)\n",
      "Requirement already satisfied: pandas>=1.1.0 in c:\\users\\owino\\anaconda3\\lib\\site-packages (from geopandas) (1.2.4)\n",
      "Requirement already satisfied: shapely>=1.7.1 in c:\\users\\owino\\anaconda3\\lib\\site-packages (from geopandas) (2.0.2)\n",
      "Requirement already satisfied: pyproj>=3.0.1 in c:\\users\\owino\\anaconda3\\lib\\site-packages (from geopandas) (3.5.0)\n",
      "Requirement already satisfied: packaging in c:\\users\\owino\\anaconda3\\lib\\site-packages (from geopandas) (23.1)\n",
      "Requirement already satisfied: fiona>=1.8.19 in c:\\users\\owino\\anaconda3\\lib\\site-packages (from geopandas) (1.9.5)\n",
      "Requirement already satisfied: setuptools in c:\\users\\owino\\anaconda3\\lib\\site-packages (from fiona>=1.8.19->geopandas) (67.8.0)\n",
      "Requirement already satisfied: cligj>=0.5 in c:\\users\\owino\\anaconda3\\lib\\site-packages (from fiona>=1.8.19->geopandas) (0.7.2)\n",
      "Requirement already satisfied: click~=8.0 in c:\\users\\owino\\anaconda3\\lib\\site-packages (from fiona>=1.8.19->geopandas) (8.1.7)\n",
      "Requirement already satisfied: certifi in c:\\users\\owino\\anaconda3\\lib\\site-packages (from fiona>=1.8.19->geopandas) (2020.12.5)\n",
      "Requirement already satisfied: six in c:\\users\\owino\\anaconda3\\lib\\site-packages (from fiona>=1.8.19->geopandas) (1.15.0)\n",
      "Requirement already satisfied: click-plugins>=1.0 in c:\\users\\owino\\anaconda3\\lib\\site-packages (from fiona>=1.8.19->geopandas) (1.1.1)\n",
      "Requirement already satisfied: importlib-metadata in c:\\users\\owino\\anaconda3\\lib\\site-packages (from fiona>=1.8.19->geopandas) (3.10.0)\n",
      "Requirement already satisfied: attrs>=19.2.0 in c:\\users\\owino\\anaconda3\\lib\\site-packages (from fiona>=1.8.19->geopandas) (20.3.0)\n",
      "Requirement already satisfied: colorama in c:\\users\\owino\\anaconda3\\lib\\site-packages (from click~=8.0->fiona>=1.8.19->geopandas) (0.4.4)\n",
      "Requirement already satisfied: python-dateutil>=2.7.3 in c:\\users\\owino\\anaconda3\\lib\\site-packages (from pandas>=1.1.0->geopandas) (2.8.1)\n",
      "Requirement already satisfied: pytz>=2017.3 in c:\\users\\owino\\anaconda3\\lib\\site-packages (from pandas>=1.1.0->geopandas) (2021.1)\n",
      "Requirement already satisfied: numpy>=1.16.5 in c:\\users\\owino\\anaconda3\\lib\\site-packages (from pandas>=1.1.0->geopandas) (1.20.1)\n",
      "Requirement already satisfied: zipp>=0.5 in c:\\users\\owino\\anaconda3\\lib\\site-packages (from importlib-metadata->fiona>=1.8.19->geopandas) (3.4.1)\n"
     ]
    }
   ],
   "source": [
    "#installing the geospatial libraries\n",
    "!pip install geopandas"
   ]
  },
  {
   "cell_type": "code",
   "execution_count": 4,
   "id": "3a1cd73a",
   "metadata": {},
   "outputs": [],
   "source": [
    "# importing the geopandas library\n",
    "import geopandas as gpd"
   ]
  },
  {
   "cell_type": "code",
   "execution_count": null,
   "id": "756400ce",
   "metadata": {},
   "outputs": [],
   "source": []
  }
 ],
 "metadata": {
  "kernelspec": {
   "display_name": "Python 3",
   "language": "python",
   "name": "python3"
  },
  "language_info": {
   "codemirror_mode": {
    "name": "ipython",
    "version": 3
   },
   "file_extension": ".py",
   "mimetype": "text/x-python",
   "name": "python",
   "nbconvert_exporter": "python",
   "pygments_lexer": "ipython3",
   "version": "3.8.8"
  }
 },
 "nbformat": 4,
 "nbformat_minor": 5
}
