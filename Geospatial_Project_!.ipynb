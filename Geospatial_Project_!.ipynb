{
 "cells": [
  {
   "cell_type": "markdown",
   "id": "ce656c3a",
   "metadata": {},
   "source": [
    "### Setting Up for the Geospatial Enviroment"
   ]
  },
  {
   "cell_type": "code",
   "execution_count": 3,
   "id": "c92d4c88",
   "metadata": {},
   "outputs": [
    {
     "name": "stdout",
     "output_type": "stream",
     "text": [
      "Requirement already satisfied: geopandas in c:\\users\\owino\\anaconda3\\lib\\site-packages (0.13.2)\n",
      "Requirement already satisfied: pandas>=1.1.0 in c:\\users\\owino\\anaconda3\\lib\\site-packages (from geopandas) (1.2.4)\n",
      "Requirement already satisfied: shapely>=1.7.1 in c:\\users\\owino\\anaconda3\\lib\\site-packages (from geopandas) (2.0.2)\n",
      "Requirement already satisfied: pyproj>=3.0.1 in c:\\users\\owino\\anaconda3\\lib\\site-packages (from geopandas) (3.5.0)\n",
      "Requirement already satisfied: packaging in c:\\users\\owino\\anaconda3\\lib\\site-packages (from geopandas) (23.1)\n",
      "Requirement already satisfied: fiona>=1.8.19 in c:\\users\\owino\\anaconda3\\lib\\site-packages (from geopandas) (1.9.5)\n",
      "Requirement already satisfied: setuptools in c:\\users\\owino\\anaconda3\\lib\\site-packages (from fiona>=1.8.19->geopandas) (67.8.0)\n",
      "Requirement already satisfied: cligj>=0.5 in c:\\users\\owino\\anaconda3\\lib\\site-packages (from fiona>=1.8.19->geopandas) (0.7.2)\n",
      "Requirement already satisfied: click~=8.0 in c:\\users\\owino\\anaconda3\\lib\\site-packages (from fiona>=1.8.19->geopandas) (8.1.7)\n",
      "Requirement already satisfied: certifi in c:\\users\\owino\\anaconda3\\lib\\site-packages (from fiona>=1.8.19->geopandas) (2020.12.5)\n",
      "Requirement already satisfied: six in c:\\users\\owino\\anaconda3\\lib\\site-packages (from fiona>=1.8.19->geopandas) (1.15.0)\n",
      "Requirement already satisfied: click-plugins>=1.0 in c:\\users\\owino\\anaconda3\\lib\\site-packages (from fiona>=1.8.19->geopandas) (1.1.1)\n",
      "Requirement already satisfied: importlib-metadata in c:\\users\\owino\\anaconda3\\lib\\site-packages (from fiona>=1.8.19->geopandas) (3.10.0)\n",
      "Requirement already satisfied: attrs>=19.2.0 in c:\\users\\owino\\anaconda3\\lib\\site-packages (from fiona>=1.8.19->geopandas) (20.3.0)\n",
      "Requirement already satisfied: colorama in c:\\users\\owino\\anaconda3\\lib\\site-packages (from click~=8.0->fiona>=1.8.19->geopandas) (0.4.4)\n",
      "Requirement already satisfied: python-dateutil>=2.7.3 in c:\\users\\owino\\anaconda3\\lib\\site-packages (from pandas>=1.1.0->geopandas) (2.8.1)\n",
      "Requirement already satisfied: pytz>=2017.3 in c:\\users\\owino\\anaconda3\\lib\\site-packages (from pandas>=1.1.0->geopandas) (2021.1)\n",
      "Requirement already satisfied: numpy>=1.16.5 in c:\\users\\owino\\anaconda3\\lib\\site-packages (from pandas>=1.1.0->geopandas) (1.20.1)\n",
      "Requirement already satisfied: zipp>=0.5 in c:\\users\\owino\\anaconda3\\lib\\site-packages (from importlib-metadata->fiona>=1.8.19->geopandas) (3.4.1)\n"
     ]
    }
   ],
   "source": [
    "#installing the geospatial libraries\n",
    "!pip install geopandas"
   ]
  },
  {
   "cell_type": "code",
   "execution_count": 7,
   "id": "c83bcf71",
   "metadata": {},
   "outputs": [
    {
     "name": "stderr",
     "output_type": "stream",
     "text": [
      "WARNING: Retrying (Retry(total=4, connect=None, read=None, redirect=None, status=None)) after connection broken by 'ReadTimeoutError(\"HTTPSConnectionPool(host='pypi.org', port=443): Read timed out. (read timeout=15)\")': /simple/json/\n",
      "WARNING: Retrying (Retry(total=3, connect=None, read=None, redirect=None, status=None)) after connection broken by 'ConnectTimeoutError(<pip._vendor.urllib3.connection.HTTPSConnection object at 0x000002587E3440A0>, 'Connection to pypi.org timed out. (connect timeout=15)')': /simple/json/\n",
      "WARNING: Retrying (Retry(total=2, connect=None, read=None, redirect=None, status=None)) after connection broken by 'ConnectTimeoutError(<pip._vendor.urllib3.connection.HTTPSConnection object at 0x000002587E344250>, 'Connection to pypi.org timed out. (connect timeout=15)')': /simple/json/\n",
      "ERROR: Could not find a version that satisfies the requirement json\n",
      "ERROR: No matching distribution found for json\n"
     ]
    }
   ],
   "source": [
    "!pip install json"
   ]
  },
  {
   "cell_type": "code",
   "execution_count": 8,
   "id": "05707d05",
   "metadata": {},
   "outputs": [],
   "source": [
    "# importing the geopandas library\n",
    "import geopandas as gpd\n",
    "import json"
   ]
  },
  {
   "cell_type": "code",
   "execution_count": 12,
   "id": "31bbbe47",
   "metadata": {},
   "outputs": [],
   "source": [
    "# loading the shapefile data and json data from the  files\n",
    "shapefile_path = r\"C:\\Users\\owino\\3D Objects\\ \\my_projects\\INprogress\\Geospacial_Analysis\\data\\shp\\municipality.shp\"\n",
    "ls_shp = gpd.read_file(shapefile_path)\n",
    "\n",
    "# loading the JSON Data\n",
    "geojson_path = r\"C:\\Users\\owino\\3D Objects\\ \\my_projects\\INprogress\\Geospacial_Analysis\\data\\shp\\municipality.json\"\n",
    "# Openning the GeoJSON file and loading its content\n",
    "with open(geojson_path, 'r', encoding='utf-8') as file:\n",
    "    ls_geojson = json.load(file)"
   ]
  },
  {
   "cell_type": "code",
   "execution_count": 14,
   "id": "e4b3e973",
   "metadata": {},
   "outputs": [
    {
     "data": {
      "text/html": [
       "<div>\n",
       "<style scoped>\n",
       "    .dataframe tbody tr th:only-of-type {\n",
       "        vertical-align: middle;\n",
       "    }\n",
       "\n",
       "    .dataframe tbody tr th {\n",
       "        vertical-align: top;\n",
       "    }\n",
       "\n",
       "    .dataframe thead th {\n",
       "        text-align: right;\n",
       "    }\n",
       "</style>\n",
       "<table border=\"1\" class=\"dataframe\">\n",
       "  <thead>\n",
       "    <tr style=\"text-align: right;\">\n",
       "      <th></th>\n",
       "      <th>OBJECTID</th>\n",
       "      <th>DISTRICT</th>\n",
       "      <th>GaPa_NaPa</th>\n",
       "      <th>Type_GN</th>\n",
       "      <th>Province</th>\n",
       "      <th>SCode</th>\n",
       "      <th>DCode</th>\n",
       "      <th>SDD</th>\n",
       "      <th>MCode</th>\n",
       "      <th>length</th>\n",
       "      <th>area</th>\n",
       "      <th>SDDMM</th>\n",
       "      <th>Nepali</th>\n",
       "      <th>Shape_Leng</th>\n",
       "      <th>Shape_Area</th>\n",
       "      <th>geometry</th>\n",
       "    </tr>\n",
       "  </thead>\n",
       "  <tbody>\n",
       "    <tr>\n",
       "      <th>0</th>\n",
       "      <td>1</td>\n",
       "      <td>TAPLEJUNG</td>\n",
       "      <td>Aathrai Tribeni</td>\n",
       "      <td>Gaunpalika</td>\n",
       "      <td>1</td>\n",
       "      <td>1</td>\n",
       "      <td>1</td>\n",
       "      <td>101</td>\n",
       "      <td>1</td>\n",
       "      <td>44.672747</td>\n",
       "      <td>88.825948</td>\n",
       "      <td>10101</td>\n",
       "      <td>आठराई त्रिवेणी</td>\n",
       "      <td>0.430900</td>\n",
       "      <td>0.008075</td>\n",
       "      <td>POLYGON ((87.62191 27.36245, 87.62137 27.36272...</td>\n",
       "    </tr>\n",
       "    <tr>\n",
       "      <th>1</th>\n",
       "      <td>2</td>\n",
       "      <td>TAPLEJUNG</td>\n",
       "      <td>Maiwakhola</td>\n",
       "      <td>Gaunpalika</td>\n",
       "      <td>1</td>\n",
       "      <td>1</td>\n",
       "      <td>1</td>\n",
       "      <td>101</td>\n",
       "      <td>2</td>\n",
       "      <td>61.067429</td>\n",
       "      <td>137.848122</td>\n",
       "      <td>10102</td>\n",
       "      <td>मैवाखोला</td>\n",
       "      <td>0.577692</td>\n",
       "      <td>0.012540</td>\n",
       "      <td>POLYGON ((87.60599 27.37125, 87.60364 27.37219...</td>\n",
       "    </tr>\n",
       "    <tr>\n",
       "      <th>2</th>\n",
       "      <td>3</td>\n",
       "      <td>TAPLEJUNG</td>\n",
       "      <td>Meringden</td>\n",
       "      <td>Gaunpalika</td>\n",
       "      <td>1</td>\n",
       "      <td>1</td>\n",
       "      <td>1</td>\n",
       "      <td>101</td>\n",
       "      <td>3</td>\n",
       "      <td>75.987469</td>\n",
       "      <td>210.313039</td>\n",
       "      <td>10103</td>\n",
       "      <td>मेरिङदेन</td>\n",
       "      <td>0.718499</td>\n",
       "      <td>0.019148</td>\n",
       "      <td>POLYGON ((87.62728 27.37689, 87.62691 27.37773...</td>\n",
       "    </tr>\n",
       "    <tr>\n",
       "      <th>3</th>\n",
       "      <td>4</td>\n",
       "      <td>TAPLEJUNG</td>\n",
       "      <td>Mikwakhola</td>\n",
       "      <td>Gaunpalika</td>\n",
       "      <td>1</td>\n",
       "      <td>1</td>\n",
       "      <td>1</td>\n",
       "      <td>101</td>\n",
       "      <td>4</td>\n",
       "      <td>123.175400</td>\n",
       "      <td>442.960328</td>\n",
       "      <td>10104</td>\n",
       "      <td>मिक्वाखोला</td>\n",
       "      <td>1.164097</td>\n",
       "      <td>0.040365</td>\n",
       "      <td>POLYGON ((87.68465 27.40857, 87.67857 27.40784...</td>\n",
       "    </tr>\n",
       "    <tr>\n",
       "      <th>4</th>\n",
       "      <td>5</td>\n",
       "      <td>TAPLEJUNG</td>\n",
       "      <td>Phaktanglung</td>\n",
       "      <td>Gaunpalika</td>\n",
       "      <td>1</td>\n",
       "      <td>1</td>\n",
       "      <td>1</td>\n",
       "      <td>101</td>\n",
       "      <td>5</td>\n",
       "      <td>228.107830</td>\n",
       "      <td>1858.441119</td>\n",
       "      <td>10105</td>\n",
       "      <td>फक्ताङलुङ</td>\n",
       "      <td>2.186142</td>\n",
       "      <td>0.169452</td>\n",
       "      <td>POLYGON ((88.14827 27.70202, 88.14733 27.70302...</td>\n",
       "    </tr>\n",
       "  </tbody>\n",
       "</table>\n",
       "</div>"
      ],
      "text/plain": [
       "   OBJECTID   DISTRICT        GaPa_NaPa     Type_GN Province  SCode  DCode  \\\n",
       "0         1  TAPLEJUNG  Aathrai Tribeni  Gaunpalika        1      1      1   \n",
       "1         2  TAPLEJUNG       Maiwakhola  Gaunpalika        1      1      1   \n",
       "2         3  TAPLEJUNG        Meringden  Gaunpalika        1      1      1   \n",
       "3         4  TAPLEJUNG       Mikwakhola  Gaunpalika        1      1      1   \n",
       "4         5  TAPLEJUNG     Phaktanglung  Gaunpalika        1      1      1   \n",
       "\n",
       "   SDD  MCode      length         area  SDDMM          Nepali  Shape_Leng  \\\n",
       "0  101      1   44.672747    88.825948  10101  आठराई त्रिवेणी    0.430900   \n",
       "1  101      2   61.067429   137.848122  10102        मैवाखोला    0.577692   \n",
       "2  101      3   75.987469   210.313039  10103        मेरिङदेन    0.718499   \n",
       "3  101      4  123.175400   442.960328  10104      मिक्वाखोला    1.164097   \n",
       "4  101      5  228.107830  1858.441119  10105       फक्ताङलुङ    2.186142   \n",
       "\n",
       "   Shape_Area                                           geometry  \n",
       "0    0.008075  POLYGON ((87.62191 27.36245, 87.62137 27.36272...  \n",
       "1    0.012540  POLYGON ((87.60599 27.37125, 87.60364 27.37219...  \n",
       "2    0.019148  POLYGON ((87.62728 27.37689, 87.62691 27.37773...  \n",
       "3    0.040365  POLYGON ((87.68465 27.40857, 87.67857 27.40784...  \n",
       "4    0.169452  POLYGON ((88.14827 27.70202, 88.14733 27.70302...  "
      ]
     },
     "execution_count": 14,
     "metadata": {},
     "output_type": "execute_result"
    }
   ],
   "source": [
    "# defining the geo dataframe\n",
    "gdf = gpd.read_file(geojson_path)\n",
    "\n",
    "gdf.head()"
   ]
  },
  {
   "cell_type": "code",
   "execution_count": null,
   "id": "ac9b41bc",
   "metadata": {},
   "outputs": [],
   "source": [
    "# loadim"
   ]
  }
 ],
 "metadata": {
  "kernelspec": {
   "display_name": "Python 3",
   "language": "python",
   "name": "python3"
  },
  "language_info": {
   "codemirror_mode": {
    "name": "ipython",
    "version": 3
   },
   "file_extension": ".py",
   "mimetype": "text/x-python",
   "name": "python",
   "nbconvert_exporter": "python",
   "pygments_lexer": "ipython3",
   "version": "3.8.8"
  }
 },
 "nbformat": 4,
 "nbformat_minor": 5
}
