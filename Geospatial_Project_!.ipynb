{
 "cells": [
  {
   "cell_type": "markdown",
   "id": "09203303",
   "metadata": {},
   "source": [
    "### Setting Up for the Geospatial Enviroment"
   ]
  },
  {
   "cell_type": "code",
   "execution_count": 3,
   "id": "8b85f63a",
   "metadata": {},
   "outputs": [
    {
     "name": "stdout",
     "output_type": "stream",
     "text": [
      "Requirement already satisfied: geopandas in c:\\users\\owino\\anaconda3\\lib\\site-packages (0.13.2)\n",
      "Requirement already satisfied: pandas>=1.1.0 in c:\\users\\owino\\anaconda3\\lib\\site-packages (from geopandas) (1.2.4)\n",
      "Requirement already satisfied: shapely>=1.7.1 in c:\\users\\owino\\anaconda3\\lib\\site-packages (from geopandas) (2.0.2)\n",
      "Requirement already satisfied: pyproj>=3.0.1 in c:\\users\\owino\\anaconda3\\lib\\site-packages (from geopandas) (3.5.0)\n",
      "Requirement already satisfied: packaging in c:\\users\\owino\\anaconda3\\lib\\site-packages (from geopandas) (23.1)\n",
      "Requirement already satisfied: fiona>=1.8.19 in c:\\users\\owino\\anaconda3\\lib\\site-packages (from geopandas) (1.9.5)\n",
      "Requirement already satisfied: setuptools in c:\\users\\owino\\anaconda3\\lib\\site-packages (from fiona>=1.8.19->geopandas) (67.8.0)\n",
      "Requirement already satisfied: cligj>=0.5 in c:\\users\\owino\\anaconda3\\lib\\site-packages (from fiona>=1.8.19->geopandas) (0.7.2)\n",
      "Requirement already satisfied: click~=8.0 in c:\\users\\owino\\anaconda3\\lib\\site-packages (from fiona>=1.8.19->geopandas) (8.1.7)\n",
      "Requirement already satisfied: certifi in c:\\users\\owino\\anaconda3\\lib\\site-packages (from fiona>=1.8.19->geopandas) (2020.12.5)\n",
      "Requirement already satisfied: six in c:\\users\\owino\\anaconda3\\lib\\site-packages (from fiona>=1.8.19->geopandas) (1.15.0)\n",
      "Requirement already satisfied: click-plugins>=1.0 in c:\\users\\owino\\anaconda3\\lib\\site-packages (from fiona>=1.8.19->geopandas) (1.1.1)\n",
      "Requirement already satisfied: importlib-metadata in c:\\users\\owino\\anaconda3\\lib\\site-packages (from fiona>=1.8.19->geopandas) (3.10.0)\n",
      "Requirement already satisfied: attrs>=19.2.0 in c:\\users\\owino\\anaconda3\\lib\\site-packages (from fiona>=1.8.19->geopandas) (20.3.0)\n",
      "Requirement already satisfied: colorama in c:\\users\\owino\\anaconda3\\lib\\site-packages (from click~=8.0->fiona>=1.8.19->geopandas) (0.4.4)\n",
      "Requirement already satisfied: python-dateutil>=2.7.3 in c:\\users\\owino\\anaconda3\\lib\\site-packages (from pandas>=1.1.0->geopandas) (2.8.1)\n",
      "Requirement already satisfied: pytz>=2017.3 in c:\\users\\owino\\anaconda3\\lib\\site-packages (from pandas>=1.1.0->geopandas) (2021.1)\n",
      "Requirement already satisfied: numpy>=1.16.5 in c:\\users\\owino\\anaconda3\\lib\\site-packages (from pandas>=1.1.0->geopandas) (1.20.1)\n",
      "Requirement already satisfied: zipp>=0.5 in c:\\users\\owino\\anaconda3\\lib\\site-packages (from importlib-metadata->fiona>=1.8.19->geopandas) (3.4.1)\n"
     ]
    }
   ],
   "source": [
    "#installing the geospatial libraries\n",
    "!pip install geopandas"
   ]
  },
  {
   "cell_type": "code",
   "execution_count": 7,
   "id": "e23d4cb9",
   "metadata": {},
   "outputs": [
    {
     "name": "stderr",
     "output_type": "stream",
     "text": [
      "WARNING: Retrying (Retry(total=4, connect=None, read=None, redirect=None, status=None)) after connection broken by 'ReadTimeoutError(\"HTTPSConnectionPool(host='pypi.org', port=443): Read timed out. (read timeout=15)\")': /simple/json/\n",
      "WARNING: Retrying (Retry(total=3, connect=None, read=None, redirect=None, status=None)) after connection broken by 'ConnectTimeoutError(<pip._vendor.urllib3.connection.HTTPSConnection object at 0x000002587E3440A0>, 'Connection to pypi.org timed out. (connect timeout=15)')': /simple/json/\n",
      "WARNING: Retrying (Retry(total=2, connect=None, read=None, redirect=None, status=None)) after connection broken by 'ConnectTimeoutError(<pip._vendor.urllib3.connection.HTTPSConnection object at 0x000002587E344250>, 'Connection to pypi.org timed out. (connect timeout=15)')': /simple/json/\n",
      "ERROR: Could not find a version that satisfies the requirement json\n",
      "ERROR: No matching distribution found for json\n"
     ]
    }
   ],
   "source": [
    "!pip install json"
   ]
  },
  {
   "cell_type": "code",
   "execution_count": 8,
   "id": "edef51bd",
   "metadata": {},
   "outputs": [],
   "source": [
    "# importing the geopandas library\n",
    "import geopandas as gpd\n",
    "import json"
   ]
  },
  {
   "cell_type": "code",
   "execution_count": 6,
   "id": "d29867b1",
   "metadata": {},
   "outputs": [],
   "source": [
    "# loading the shapefile data and json data from the  files\n",
    "shapefile_path = r\"C:\\Users\\owino\\3D Objects\\ \\my_projects\\INprogress\\Geospacial_Analysis\\data\\shp\\municipality.shp\"\n",
    "ls_shp = gpd.read_file(shapefile_path)\n",
    "\n",
    "# loading the JSON "
   ]
  },
  {
   "cell_type": "code",
   "execution_count": 11,
   "id": "791ff729",
   "metadata": {},
   "outputs": [],
   "source": [
    "geojson_path = r\"C:\\Users\\owino\\3D Objects\\ \\my_projects\\INprogress\\Geospacial_Analysis\\data\\shp\\municipality.json\"\n",
    "# Openning the GeoJSON file and loading its content\n",
    "with open(geojson_path, 'r', encoding='utf-8') as file:\n",
    "    ls_geojson = json.load(file)"
   ]
  },
  {
   "cell_type": "code",
   "execution_count": null,
   "id": "7a041043",
   "metadata": {},
   "outputs": [],
   "source": []
  }
 ],
 "metadata": {
  "kernelspec": {
   "display_name": "Python 3",
   "language": "python",
   "name": "python3"
  },
  "language_info": {
   "codemirror_mode": {
    "name": "ipython",
    "version": 3
   },
   "file_extension": ".py",
   "mimetype": "text/x-python",
   "name": "python",
   "nbconvert_exporter": "python",
   "pygments_lexer": "ipython3",
   "version": "3.8.8"
  }
 },
 "nbformat": 4,
 "nbformat_minor": 5
}
